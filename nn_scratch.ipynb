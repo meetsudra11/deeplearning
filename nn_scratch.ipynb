{
 "cells": [
  {
   "cell_type": "code",
   "execution_count": 1,
   "metadata": {},
   "outputs": [],
   "source": [
    "import math"
   ]
  },
  {
   "cell_type": "code",
   "execution_count": 2,
   "metadata": {},
   "outputs": [],
   "source": [
    "#inputs\n",
    "x1 = 0.5\n",
    "x2 = -0.3"
   ]
  },
  {
   "cell_type": "code",
   "execution_count": 3,
   "metadata": {},
   "outputs": [],
   "source": [
    "#weights\n",
    "w111 = 0.8 # k=1, i=1 , j=1 \n",
    "w121 = -0.6 # k=1, i=2, j=1\n",
    "\n",
    "#bias\n",
    "b = 0.1"
   ]
  },
  {
   "cell_type": "code",
   "execution_count": 4,
   "metadata": {},
   "outputs": [],
   "source": [
    "z = (x1*w111)+(x2*w121)+b # weighed sum"
   ]
  },
  {
   "cell_type": "code",
   "execution_count": 5,
   "metadata": {},
   "outputs": [
    {
     "data": {
      "text/plain": [
       "0.6637386974043528"
      ]
     },
     "execution_count": 5,
     "metadata": {},
     "output_type": "execute_result"
    }
   ],
   "source": [
    "def sigmoid(x):\n",
    "    return 1/(1+math.exp(-x))\n",
    "\n",
    "confidence = sigmoid(z)\n",
    "confidence # output value"
   ]
  },
  {
   "cell_type": "markdown",
   "metadata": {},
   "source": [
    "Above code used only input and the output layer and calculated the activation of the output neuron.\n",
    "Now lets see how it works on introducing the hidden layer."
   ]
  },
  {
   "cell_type": "code",
   "execution_count": 6,
   "metadata": {},
   "outputs": [],
   "source": [
    "# weigths of hidden layers\n",
    "w111 = 0.8\n",
    "w112 = -0.6\n",
    "w121 = 0.5\n",
    "w122 = 0.9"
   ]
  },
  {
   "cell_type": "code",
   "execution_count": 7,
   "metadata": {},
   "outputs": [],
   "source": [
    "# biases of hidden layers\n",
    "b11 = 0.1 # layer=1,node=1\n",
    "b12 = -0.2 # layer=1,node=2"
   ]
  },
  {
   "cell_type": "code",
   "execution_count": 8,
   "metadata": {},
   "outputs": [],
   "source": [
    "# ouptut layer weights\n",
    "w211 = 0.3 # k=2, i=1, j=1\n",
    "w221 = -0.7 # k=2, i=2, j=1"
   ]
  },
  {
   "cell_type": "code",
   "execution_count": 9,
   "metadata": {},
   "outputs": [],
   "source": [
    "# output layer bias\n",
    "b21 = 0.05 #layer=2,node=1"
   ]
  },
  {
   "cell_type": "code",
   "execution_count": 10,
   "metadata": {},
   "outputs": [],
   "source": [
    "z1 = (x1*w111)+(x2*w121)+b11\n",
    "a1 = sigmoid(z1) # activation of neuron 1\n",
    "\n",
    "z2 = (x1*w112)+(x2*w122)+b12\n",
    "a2 = sigmoid(z2) # activation of neuron 2"
   ]
  },
  {
   "cell_type": "code",
   "execution_count": 13,
   "metadata": {},
   "outputs": [],
   "source": [
    "zo = (a1*w211)+(a2*w221)+b21\n",
    "ao = sigmoid(zo) # activation of output neuron"
   ]
  },
  {
   "cell_type": "code",
   "execution_count": 15,
   "metadata": {},
   "outputs": [
    {
     "name": "stdout",
     "output_type": "stream",
     "text": [
      "Hidden Neuron 1 Activation (a1): 0.5866175789173301\n",
      "Hidden Neuron 2 Activation (a2): 0.31647910626368436\n",
      "Output Neuron Activation (a_o): 0.5011124729869265\n"
     ]
    }
   ],
   "source": [
    "print(f\"Hidden Neuron 1 Activation (a1): {a1}\")\n",
    "print(f\"Hidden Neuron 2 Activation (a2): {a2}\")\n",
    "print(f\"Output Neuron Activation (a_o): {ao}\")"
   ]
  }
 ],
 "metadata": {
  "kernelspec": {
   "display_name": "Python 3",
   "language": "python",
   "name": "python3"
  },
  "language_info": {
   "codemirror_mode": {
    "name": "ipython",
    "version": 3
   },
   "file_extension": ".py",
   "mimetype": "text/x-python",
   "name": "python",
   "nbconvert_exporter": "python",
   "pygments_lexer": "ipython3",
   "version": "3.12.3"
  }
 },
 "nbformat": 4,
 "nbformat_minor": 2
}
