{
 "cells": [
  {
   "cell_type": "code",
   "execution_count": 1,
   "metadata": {},
   "outputs": [],
   "source": [
    "import math"
   ]
  },
  {
   "cell_type": "code",
   "execution_count": 2,
   "metadata": {},
   "outputs": [],
   "source": [
    "#inputs\n",
    "x1 = 0.5\n",
    "x2 = -0.3"
   ]
  },
  {
   "cell_type": "code",
   "execution_count": 3,
   "metadata": {},
   "outputs": [],
   "source": [
    "#weights\n",
    "w1 = 0.8\n",
    "w2 = -0.6\n",
    "\n",
    "#bias\n",
    "b = 0.1"
   ]
  },
  {
   "cell_type": "code",
   "execution_count": 4,
   "metadata": {},
   "outputs": [],
   "source": [
    "z = (x1*w1)+(x2*w2)+b # weighed sum"
   ]
  },
  {
   "cell_type": "code",
   "execution_count": 5,
   "metadata": {},
   "outputs": [
    {
     "data": {
      "text/plain": [
       "0.6637386974043528"
      ]
     },
     "execution_count": 5,
     "metadata": {},
     "output_type": "execute_result"
    }
   ],
   "source": [
    "def sigmoid(x):\n",
    "    return 1/(1+math.exp(-x))\n",
    "\n",
    "confidence = sigmoid(z)\n",
    "confidence # output value"
   ]
  },
  {
   "cell_type": "markdown",
   "metadata": {},
   "source": [
    "Above code used only input and the output layer and calculated the activation of the output neuron.\n",
    "Now lets see how it works on introducing the hidden layer."
   ]
  },
  {
   "cell_type": "code",
   "execution_count": 6,
   "metadata": {},
   "outputs": [],
   "source": [
    "# weigths of hidden layers\n",
    "w11 = 0.8\n",
    "w12 = -0.6\n",
    "w21 = 0.5\n",
    "w22 = 0.9"
   ]
  },
  {
   "cell_type": "code",
   "execution_count": 7,
   "metadata": {},
   "outputs": [],
   "source": [
    "# biases of hidden layers\n",
    "b1 = 0.1\n",
    "b2 = -0.2"
   ]
  },
  {
   "cell_type": "code",
   "execution_count": 8,
   "metadata": {},
   "outputs": [],
   "source": [
    "# ouptut layer weights\n",
    "wo1 = 0.3\n",
    "wo2 = -0.7"
   ]
  },
  {
   "cell_type": "code",
   "execution_count": 9,
   "metadata": {},
   "outputs": [],
   "source": [
    "# output layer bias\n",
    "bo = 0.05"
   ]
  },
  {
   "cell_type": "code",
   "execution_count": 10,
   "metadata": {},
   "outputs": [],
   "source": [
    "z1 = (x1*w11)+(x2*w12)+b1\n",
    "a1 = sigmoid(z1) # activation of neuron 1\n",
    "\n",
    "z2 = (x1*w21)+(x2*w22)+b2\n",
    "a2 = sigmoid(z2) # activation of neuron 2"
   ]
  },
  {
   "cell_type": "code",
   "execution_count": 11,
   "metadata": {},
   "outputs": [],
   "source": [
    "zo = (a1*wo1)+(a2*wo2)+bo\n",
    "ao = sigmoid(z2) # activation of output neuron"
   ]
  },
  {
   "cell_type": "code",
   "execution_count": 12,
   "metadata": {},
   "outputs": [
    {
     "name": "stdout",
     "output_type": "stream",
     "text": [
      "Hidden Neuron 1 Activation (a1): 0.6637386974043528\n",
      "Hidden Neuron 2 Activation (a2): 0.4452207648927852\n",
      "Output Neuron Activation (a_o): 0.4452207648927852\n"
     ]
    }
   ],
   "source": [
    "print(f\"Hidden Neuron 1 Activation (a1): {a1}\")\n",
    "print(f\"Hidden Neuron 2 Activation (a2): {a2}\")\n",
    "print(f\"Output Neuron Activation (a_o): {ao}\")"
   ]
  },
  {
   "cell_type": "markdown",
   "metadata": {},
   "source": []
  }
 ],
 "metadata": {
  "kernelspec": {
   "display_name": "Python 3",
   "language": "python",
   "name": "python3"
  },
  "language_info": {
   "codemirror_mode": {
    "name": "ipython",
    "version": 3
   },
   "file_extension": ".py",
   "mimetype": "text/x-python",
   "name": "python",
   "nbconvert_exporter": "python",
   "pygments_lexer": "ipython3",
   "version": "3.12.3"
  }
 },
 "nbformat": 4,
 "nbformat_minor": 2
}
