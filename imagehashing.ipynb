{
 "cells": [
  {
   "cell_type": "markdown",
   "metadata": {},
   "source": [
    "### Image Hashing \n",
    "Lets say u have 1000 images of cat, of which few are identical and few are not. Now can we identify which all images are duplicate of one another?\n",
    "Identifying duplicates withi image dataset is different then that of in textual data. Here comes Image Hashing into picture. \n",
    "Image hash is a fingerprint of an image. If hash of any two image comes out to be identical(or very similar) we consider them duplicates and drop them "
   ]
  },
  {
   "cell_type": "code",
   "execution_count": 2,
   "metadata": {},
   "outputs": [],
   "source": [
    "from PIL import Image \n",
    "import imagehash\n",
    "import os"
   ]
  },
  {
   "cell_type": "code",
   "execution_count": 4,
   "metadata": {},
   "outputs": [
    {
     "name": "stdout",
     "output_type": "stream",
     "text": [
      "Downloading MNIST dataset...\n",
      "Saving 18 random MNIST images...\n",
      "Creating 2 duplicates...\n",
      "Dataset created successfully with 20 images (18 unique + 2 duplicates/similar)\n"
     ]
    }
   ],
   "source": [
    "from sklearn.datasets import fetch_openml\n",
    "import numpy as np\n",
    "import matplotlib.pyplot as plt\n",
    "import shutil\n",
    "\n",
    "# Create directory for our dataset\n",
    "dataset_dir = 'mnist_subset'\n",
    "os.makedirs(dataset_dir, exist_ok=True)\n",
    "\n",
    "# Download MNIST dataset\n",
    "print(\"Downloading MNIST dataset...\")\n",
    "mnist = fetch_openml('mnist_784', version=1, parser='auto')\n",
    "X = mnist.data.astype('float32').to_numpy()\n",
    "y = mnist.target.astype('int')\n",
    "\n",
    "# Let's select 20 images from the dataset\n",
    "# We'll pick 18 random images and make 2 duplicates\n",
    "np.random.seed(42)  # For reproducibility\n",
    "indices = np.random.choice(len(X), 18, replace=False)\n",
    "\n",
    "# Save the 18 random images\n",
    "print(\"Saving 18 random MNIST images...\")\n",
    "for i, idx in enumerate(indices):\n",
    "    img_array = X[idx].reshape(28, 28).astype(np.uint8)\n",
    "    img = Image.fromarray(img_array)\n",
    "    img.save(f'{dataset_dir}/mnist_{i}.png')\n",
    "\n",
    "# Create 2 duplicates\n",
    "print(\"Creating 2 duplicates...\")\n",
    "# Duplicate 1: exact copy\n",
    "shutil.copy(f'{dataset_dir}/mnist_5.png', f'{dataset_dir}/mnist_18.png')\n",
    "\n",
    "# Duplicate 2: slightly modified (add minor noise)\n",
    "img = Image.open(f'{dataset_dir}/mnist_10.png')\n",
    "img_array = np.array(img)\n",
    "# Add slight noise\n",
    "noise = np.random.randint(-10, 10, img_array.shape, dtype=np.int16)\n",
    "img_array = np.clip(img_array.astype(np.int16) + noise, 0, 255).astype(np.uint8)\n",
    "similar_img = Image.fromarray(img_array)\n",
    "similar_img.save(f'{dataset_dir}/mnist_19.png')\n",
    "\n",
    "print(\"Dataset created successfully with 20 images (18 unique + 2 duplicates/similar)\")"
   ]
  },
  {
   "cell_type": "code",
   "execution_count": 5,
   "metadata": {},
   "outputs": [
    {
     "name": "stdout",
     "output_type": "stream",
     "text": [
      "Image:mnist_10.png,phash:981a674d38e63667\n",
      "Image:mnist_11.png,phash:9b643c34d3934ecc\n",
      "Image:mnist_13.png,phash:8f3661693c9627cc\n",
      "Image:mnist_12.png,phash:92692d1a70e2cf8f\n",
      "Image:mnist_16.png,phash:9932746dc6b2b8cc\n",
      "Image:mnist_17.png,phash:986c339966b3649b\n",
      "Image:mnist_15.png,phash:9ba4347368ce6699\n",
      "Image:mnist_14.png,phash:9b3366cd31b29869\n",
      "Image:mnist_4.png,phash:9a33646933ce9999\n",
      "Image:mnist_5.png,phash:961c69c93766da32\n",
      "Image:mnist_7.png,phash:895b76a47873874c\n",
      "Image:mnist_6.png,phash:8e6f319463999966\n",
      "Image:mnist_2.png,phash:9e6b31346ec96493\n",
      "Image:mnist_3.png,phash:99736439339c99cc\n",
      "Image:mnist_1.png,phash:9b66683996cb6394\n",
      "Image:mnist_0.png,phash:9634655b38c366cd\n",
      "Image:mnist_8.png,phash:996666383699c6cd\n",
      "Image:mnist_9.png,phash:996c6cd2e63b9894\n",
      "Image:mnist_19.png,phash:981a674d38e63667\n",
      "Image:mnist_18.png,phash:961c69c93766da32\n"
     ]
    }
   ],
   "source": [
    "image_hashes = {} # dictionary to store image hashees\n",
    "\n",
    "dataset_dir = \"/Users/meetsudra/Documents/GitHub/deeplearning/datasets/mnist_subset\"\n",
    "\n",
    "for filename in os.listdir(dataset_dir):\n",
    "    if filename.endswith(('.png','.jpg','.jpeg')):\n",
    "        image_path = os.path.join(dataset_dir,filename)\n",
    "        image = Image.open(image_path)\n",
    "\n",
    "        # creating hash value for image\n",
    "        hash_value = imagehash.phash(image)\n",
    "        image_hashes[filename] = hash_value\n",
    "        print(\"Image:\"+filename+\",phash:\"+str(hash_value))"
   ]
  },
  {
   "cell_type": "markdown",
   "metadata": {},
   "source": [
    "phash (perceptual hash) is a fingerprint based on images'svisual characteristics\n",
    "\n",
    "1. it converts image to greyscale \n",
    "2. resized to fixed dimensions 32 by 32 or 8 by 8\n",
    "    to simplyify processing, this keeps the important details while removing the unnecessary ones.\n",
    "3. apply discrete cosine transform\n",
    "    we break the image into frequency components (patterns of change). Bright areas in the DCT image represent significant details (edges and structure), while dark areas are less important\n",
    "4. extract low-frequency components\n",
    "    focus only on the core structure (the bright areas in the DCT image)\n",
    "5. binary hash\n",
    "    convert the 8×8 DCT values into a binary pattern (black/white pixels)\n",
    "6. Hexadecimal Representation\n",
    "    "
   ]
  },
  {
   "cell_type": "code",
   "execution_count": 6,
   "metadata": {},
   "outputs": [],
   "source": [
    "# function to find duplicates \n",
    "\n",
    "def find_duplicates(image_hashes, threshold=5):\n",
    "    duplicates = []\n",
    "    filenames = list(image_hashes.keys())\n",
    "\n",
    "    for i in range(len(filenames)):\n",
    "        for j in range(i+1, len(filenames)):\n",
    "            hash1 = image_hashes[filenames[i]]\n",
    "            hash2 = image_hashes[filenames[j]]\n",
    "            diff = hash1 - hash2\n",
    "            if diff<=threshold:\n",
    "                duplicates.append((filenames[i], filenames[j], diff))\n",
    "    return duplicates"
   ]
  },
  {
   "cell_type": "code",
   "execution_count": 7,
   "metadata": {},
   "outputs": [
    {
     "data": {
      "text/plain": [
       "[('mnist_10.png', 'mnist_19.png', 0), ('mnist_5.png', 'mnist_18.png', 0)]"
      ]
     },
     "execution_count": 7,
     "metadata": {},
     "output_type": "execute_result"
    }
   ],
   "source": [
    "find_duplicates(image_hashes,threshold=5)"
   ]
  },
  {
   "cell_type": "code",
   "execution_count": 8,
   "metadata": {},
   "outputs": [
    {
     "data": {
      "image/png": "[encoded data removed]",
      "text/plain": [
       "<Figure size 300x300 with 1 Axes>"
      ]
     },
     "metadata": {},
     "output_type": "display_data"
    },
    {
     "data": {
      "image/png": "[encoded data removed]",
      "text/plain": [
       "<Figure size 300x300 with 1 Axes>"
      ]
     },
     "metadata": {},
     "output_type": "display_data"
    },
    {
     "data": {
      "image/png": "[encoded data removed]",
      "text/plain": [
       "<Figure size 300x300 with 1 Axes>"
      ]
     },
     "metadata": {},
     "output_type": "display_data"
    },
    {
     "data": {
      "image/png": "[encoded data removed]",
      "text/plain": [
       "<Figure size 300x300 with 1 Axes>"
      ]
     },
     "metadata": {},
     "output_type": "display_data"
    }
   ],
   "source": [
    "selected_images = [\"mnist_10.png\", \"mnist_19.png\", \"mnist_5.png\", \"mnist_18.png\"]\n",
    "\n",
    "# Display images one by one\n",
    "for img_name in selected_images:\n",
    "    img_path = os.path.join(dataset_dir, img_name)\n",
    "    img = Image.open(img_path)\n",
    "    plt.figure(figsize=(3,3))\n",
    "    plt.imshow(img, cmap=\"gray\")\n",
    "    plt.title(img_name)\n",
    "    plt.axis(\"off\")\n",
    "    plt.show()\n",
    "\n",
    "\n",
    "# Dupicate images "
   ]
  },
  {
   "cell_type": "code",
   "execution_count": 21,
   "metadata": {},
   "outputs": [
    {
     "data": {
      "image/png": "[encoded data removed]",
      "text/plain": [
       "<Figure size 640x480 with 6 Axes>"
      ]
     },
     "metadata": {},
     "output_type": "display_data"
    }
   ],
   "source": [
    "import numpy as np\n",
    "import matplotlib.pyplot as plt\n",
    "import cv2\n",
    "\n",
    "# Function to visualize all 6 stages of pHash\n",
    "def visualize_phash(image_path):\n",
    "\n",
    "    img = Image.open(image_path).convert(\"L\")  # Convert to grayscale\n",
    "    \n",
    "    # Step 1: Original Image\n",
    "    plt.subplot(2, 3, 1)\n",
    "    plt.imshow(img, cmap=\"gray\")\n",
    "    plt.title(\"1. Og image\")\n",
    "    plt.axis(\"off\")\n",
    "    \n",
    "    # Step 2: Resize to 32x32\n",
    "    img_resized = img.resize((32, 32), Image.LANCZOS)\n",
    "    plt.subplot(2, 3, 2)\n",
    "    plt.imshow(img_resized, cmap=\"gray\")\n",
    "    plt.title(\"2.32x32\")\n",
    "    plt.axis(\"off\")\n",
    "\n",
    "    # Convert image to NumPy array\n",
    "    img_array = np.array(img_resized, dtype=np.float32)\n",
    "\n",
    "    # Step 3: Apply Discrete Cosine Transform (DCT)\n",
    "    dct_transformed = cv2.dct(img_array)\n",
    "    plt.subplot(2, 3, 3)\n",
    "    plt.imshow(dct_transformed, cmap=\"viridis\")\n",
    "    plt.title(\"3.DCT\")\n",
    "    plt.axis(\"off\")\n",
    "\n",
    "    # Step 4: Extract Low-Frequency Components (8x8)\n",
    "    dct_low_freq = dct_transformed[:8, :8]  # Take the top-left 8x8 block\n",
    "    plt.subplot(2, 3, 4)\n",
    "    plt.imshow(dct_low_freq, cmap=\"viridis\")\n",
    "    plt.title(\"4. (8x8) low freq compo\")\n",
    "    plt.axis(\"off\")\n",
    "\n",
    "    # Step 5: Convert to Binary Hash (64-bit)\n",
    "    median_value = np.median(dct_low_freq)\n",
    "    binary_hash = (dct_low_freq > median_value).astype(int)\n",
    "    plt.subplot(2, 3, 5)\n",
    "    plt.imshow(binary_hash, cmap=\"gray\")\n",
    "    plt.title(\"5. Binary hash (64*64)\")\n",
    "    plt.axis(\"off\")\n",
    "\n",
    "    # Step 6: Convert Binary Hash to Hexadecimal Representation\n",
    "    phash_value = imagehash.phash(img)\n",
    "    hex_hash = str(phash_value)\n",
    "    \n",
    "    plt.subplot(2, 3, 6\n",
    "                )\n",
    "    plt.text(0.5, 0.5, f\"Hex: {hex_hash}\", fontsize=8\n",
    "             , ha='center', va='center')\n",
    "    plt.axis(\"off\")\n",
    "    plt.title(\"6. hexadecimal rep\")\n",
    "\n",
    "    plt.tight_layout()\n",
    "    plt.show()\n",
    "\n",
    "\n",
    "image_path = \"/Users/meetsudra/Documents/GitHub/deeplearning/datasets/mnist_subset/mnist_0.png\"  \n",
    "visualize_phash(image_path)"
   ]
  },
  {
   "cell_type": "code",
   "execution_count": null,
   "metadata": {},
   "outputs": [],
   "source": []
  }
 ],
 "metadata": {
  "kernelspec": {
   "display_name": "Python 3",
   "language": "python",
   "name": "python3"
  },
  "language_info": {
   "codemirror_mode": {
    "name": "ipython",
    "version": 3
   },
   "file_extension": ".py",
   "mimetype": "text/x-python",
   "name": "python",
   "nbconvert_exporter": "python",
   "pygments_lexer": "ipython3",
   "version": "3.12.3"
  }
 },
 "nbformat": 4,
 "nbformat_minor": 2
}
